{
 "cells": [
  {
   "cell_type": "code",
   "execution_count": 8,
   "id": "50ab1262-9ab3-47b5-8241-467e81c8ca88",
   "metadata": {},
   "outputs": [],
   "source": [
    "class G():\n",
    "    long = 0\n",
    "    def plus_long(self, ii = 1):\n",
    "        self.long += ii\n",
    "num = G()"
   ]
  },
  {
   "cell_type": "code",
   "execution_count": 4,
   "id": "a5bef981-2013-48ba-86a4-8e83a1544f49",
   "metadata": {},
   "outputs": [
    {
     "name": "stdout",
     "output_type": "stream",
     "text": [
      "0\n"
     ]
    }
   ],
   "source": [
    "print(num.long)"
   ]
  },
  {
   "cell_type": "code",
   "execution_count": 11,
   "id": "51034758-7c3e-410c-8d5c-74e694a1222b",
   "metadata": {},
   "outputs": [
    {
     "name": "stdout",
     "output_type": "stream",
     "text": [
      "180\n"
     ]
    }
   ],
   "source": [
    "num.plus_long(60)\n",
    "print(num.long)"
   ]
  },
  {
   "cell_type": "code",
   "execution_count": null,
   "id": "92325364-d2f0-40ea-ad39-f752219367db",
   "metadata": {},
   "outputs": [],
   "source": [
    "import torch"
   ]
  }
 ],
 "metadata": {
  "kernelspec": {
   "display_name": "Tf-GPU",
   "language": "python",
   "name": "tf-gpu"
  },
  "language_info": {
   "codemirror_mode": {
    "name": "ipython",
    "version": 3
   },
   "file_extension": ".py",
   "mimetype": "text/x-python",
   "name": "python",
   "nbconvert_exporter": "python",
   "pygments_lexer": "ipython3",
   "version": "3.10.9"
  }
 },
 "nbformat": 4,
 "nbformat_minor": 5
}
