{
 "cells": [
  {
   "cell_type": "code",
   "execution_count": 2,
   "id": "edb7db2c-2091-4d77-b5b5-ac51f302e88a",
   "metadata": {},
   "outputs": [],
   "source": [
    "import torch"
   ]
  },
  {
   "cell_type": "code",
   "execution_count": 55,
   "id": "7cb2f810-fa9d-41b1-80c3-5c63da81c0fa",
   "metadata": {},
   "outputs": [
    {
     "name": "stdout",
     "output_type": "stream",
     "text": [
      "tensor([[-0.0000, 1.9980]])\n"
     ]
    }
   ],
   "source": [
    "x = torch.rand(3,5)\n",
    "x = torch.empty(1,2)\n",
    "x = torch.zeros(2,2,2,dtype = torch.long)\n",
    "x = torch.tensor([[1,3],[0,7]])\n",
    "\n",
    "# print(type(x[0][0][0]))\n",
    "print(x)"
   ]
  },
  {
   "cell_type": "code",
   "execution_count": 31,
   "id": "eab63a5d-f60b-44c2-9aa0-52b77d7d8192",
   "metadata": {},
   "outputs": [
    {
     "name": "stdout",
     "output_type": "stream",
     "text": [
      "tensor(1)\n"
     ]
    }
   ],
   "source": [
    "print(x[0][0])"
   ]
  },
  {
   "cell_type": "code",
   "execution_count": 38,
   "id": "ecaea874-13ad-4331-a45b-f6e1032a6bb8",
   "metadata": {},
   "outputs": [
    {
     "name": "stdout",
     "output_type": "stream",
     "text": [
      "tensor([[1., 1., 1.],\n",
      "        [1., 1., 1.],\n",
      "        [1., 1., 1.],\n",
      "        [1., 1., 1.]])\n",
      "tensor([[1.],\n",
      "        [1.],\n",
      "        [1.],\n",
      "        [1.],\n",
      "        [1.]])\n"
     ]
    }
   ],
   "source": [
    "x = x.new_ones(4,3)\n",
    "print(x)\n",
    "x = torch.ones(5,1)\n",
    "print(x)"
   ]
  },
  {
   "cell_type": "code",
   "execution_count": 46,
   "id": "3c24963a-531c-4daf-903c-ad2dfab82e0d",
   "metadata": {},
   "outputs": [
    {
     "name": "stdout",
     "output_type": "stream",
     "text": [
      "tensor([[-0.5722],\n",
      "        [ 0.6958],\n",
      "        [ 2.1319],\n",
      "        [-0.2526],\n",
      "        [ 0.8522]])\n"
     ]
    }
   ],
   "source": [
    "x = torch.randn_like(x, dtype=torch.float32)\n",
    "print(x)"
   ]
  },
  {
   "cell_type": "code",
   "execution_count": 49,
   "id": "ea6cf307-3557-4f3c-819a-66caf9a5626e",
   "metadata": {},
   "outputs": [
    {
     "name": "stdout",
     "output_type": "stream",
     "text": [
      "torch.Size([5, 1])\n",
      "<class 'torch.Size'>\n"
     ]
    }
   ],
   "source": [
    "print(x.size())\n",
    "print(type(x.size()))"
   ]
  },
  {
   "cell_type": "code",
   "execution_count": 59,
   "id": "ddf7824f-66c8-4f97-a3d8-8961ecbd8164",
   "metadata": {},
   "outputs": [
    {
     "name": "stdout",
     "output_type": "stream",
     "text": [
      "tensor([[1., 1., 1.],\n",
      "        [1., 1., 1.],\n",
      "        [1., 1., 1.],\n",
      "        [1., 1., 1.],\n",
      "        [1., 1., 1.]])\n",
      "tensor([[0.5650, 0.9895, 0.4245],\n",
      "        [0.2851, 0.2725, 0.8853],\n",
      "        [0.4373, 0.7161, 0.0280],\n",
      "        [0.0733, 0.9449, 0.0458],\n",
      "        [0.6091, 0.9963, 0.8438]])\n"
     ]
    }
   ],
   "source": [
    "x = torch.ones(5,3)\n",
    "print(x)\n",
    "y = torch.rand(5,3)\n",
    "print(y)"
   ]
  },
  {
   "cell_type": "code",
   "execution_count": 60,
   "id": "fccf45dd-2bb8-4d01-bbd9-1d7e9c1b632d",
   "metadata": {},
   "outputs": [
    {
     "name": "stdout",
     "output_type": "stream",
     "text": [
      "tensor([[1.5650, 1.9895, 1.4245],\n",
      "        [1.2851, 1.2725, 1.8853],\n",
      "        [1.4373, 1.7161, 1.0280],\n",
      "        [1.0733, 1.9449, 1.0458],\n",
      "        [1.6091, 1.9963, 1.8438]])\n"
     ]
    }
   ],
   "source": [
    "print(x+y)"
   ]
  },
  {
   "cell_type": "code",
   "execution_count": 61,
   "id": "a3214ad6-5574-4053-a7ff-d163a145f605",
   "metadata": {},
   "outputs": [
    {
     "name": "stdout",
     "output_type": "stream",
     "text": [
      "tensor([[1.5650, 1.9895, 1.4245],\n",
      "        [1.2851, 1.2725, 1.8853],\n",
      "        [1.4373, 1.7161, 1.0280],\n",
      "        [1.0733, 1.9449, 1.0458],\n",
      "        [1.6091, 1.9963, 1.8438]])\n",
      "tensor([[True, True, True],\n",
      "        [True, True, True],\n",
      "        [True, True, True],\n",
      "        [True, True, True],\n",
      "        [True, True, True]])\n"
     ]
    }
   ],
   "source": [
    "print(torch.add(x,y))\n",
    "print(torch.add(x,y) == (x+y))"
   ]
  },
  {
   "cell_type": "code",
   "execution_count": null,
   "id": "d1d4c531-9b7e-4abd-a6d9-3f788de62998",
   "metadata": {},
   "outputs": [],
   "source": []
  },
  {
   "cell_type": "code",
   "execution_count": 62,
   "id": "aeaa2d2e-995d-4f9b-b5c2-600b5766f3b3",
   "metadata": {},
   "outputs": [
    {
     "name": "stdout",
     "output_type": "stream",
     "text": [
      "tensor([[0.5650, 0.9895, 0.4245],\n",
      "        [0.2851, 0.2725, 0.8853],\n",
      "        [0.4373, 0.7161, 0.0280],\n",
      "        [0.0733, 0.9449, 0.0458],\n",
      "        [0.6091, 0.9963, 0.8438]])\n",
      "tensor([[1., 1., 1.],\n",
      "        [1., 1., 1.],\n",
      "        [1., 1., 1.],\n",
      "        [1., 1., 1.],\n",
      "        [1., 1., 1.]])\n",
      "tensor([[1.5650, 1.9895, 1.4245],\n",
      "        [1.2851, 1.2725, 1.8853],\n",
      "        [1.4373, 1.7161, 1.0280],\n",
      "        [1.0733, 1.9449, 1.0458],\n",
      "        [1.6091, 1.9963, 1.8438]])\n"
     ]
    }
   ],
   "source": [
    "print(y)\n",
    "print(x)\n",
    "y.add_(x)\n",
    "print(y)"
   ]
  },
  {
   "cell_type": "code",
   "execution_count": 66,
   "id": "f003993e-f4be-4aef-a370-d6fd2a9e2a72",
   "metadata": {},
   "outputs": [
    {
     "name": "stdout",
     "output_type": "stream",
     "text": [
      "tensor([[1.5650, 1.2851, 1.4373, 1.0733, 1.6091],\n",
      "        [1.9895, 1.2725, 1.7161, 1.9449, 1.9963],\n",
      "        [1.4245, 1.8853, 1.0280, 1.0458, 1.8438]])\n"
     ]
    }
   ],
   "source": [
    "y.t_()\n",
    "print(y)"
   ]
  },
  {
   "cell_type": "code",
   "execution_count": 68,
   "id": "2b08086a-7733-43bd-be52-e5fbb7f36479",
   "metadata": {},
   "outputs": [
    {
     "name": "stdout",
     "output_type": "stream",
     "text": [
      "tensor([1.5650, 1.9895, 1.4245])\n"
     ]
    }
   ],
   "source": [
    "print(y[:,0])"
   ]
  },
  {
   "cell_type": "code",
   "execution_count": 81,
   "id": "8788379b-ced5-49c5-a13c-7734277465eb",
   "metadata": {},
   "outputs": [
    {
     "name": "stdout",
     "output_type": "stream",
     "text": [
      "tensor([[ 2.7120,  0.7249, -0.2495,  1.0278],\n",
      "        [ 0.0945, -1.9900, -1.4022,  0.0554],\n",
      "        [ 0.7581,  2.3782, -0.4054,  2.5092],\n",
      "        [ 3.0157,  1.3365,  0.7028,  0.1493]])\n",
      "tensor([ 2.7120,  0.7249, -0.2495,  1.0278,  0.0945, -1.9900, -1.4022,  0.0554,\n",
      "         0.7581,  2.3782, -0.4054,  2.5092,  3.0157,  1.3365,  0.7028,  0.1493])\n",
      "tensor([[ 2.7120,  0.7249, -0.2495,  1.0278,  0.0945, -1.9900, -1.4022,  0.0554],\n",
      "        [ 0.7581,  2.3782, -0.4054,  2.5092,  3.0157,  1.3365,  0.7028,  0.1493]])\n"
     ]
    }
   ],
   "source": [
    "x = torch.randn(4,4)\n",
    "y = x.view(16)\n",
    "z = x.view(-1,8)\n",
    "print(x,y,z,sep = '\\n')"
   ]
  },
  {
   "cell_type": "code",
   "execution_count": 82,
   "id": "34dd5f03-8e25-450b-8af9-70542ac79751",
   "metadata": {},
   "outputs": [
    {
     "name": "stdout",
     "output_type": "stream",
     "text": [
      "tensor([1.0486])\n",
      "1.048575520515442\n"
     ]
    }
   ],
   "source": [
    "x = torch.randn(1)\n",
    "print(x)\n",
    "print(x.item())"
   ]
  },
  {
   "cell_type": "code",
   "execution_count": 84,
   "id": "77790c63-70f6-4b23-bbe9-79c933ec871d",
   "metadata": {},
   "outputs": [
    {
     "name": "stdout",
     "output_type": "stream",
     "text": [
      "tensor([1., 1., 1., 1., 1., 1., 1., 1., 1., 1.])\n"
     ]
    }
   ],
   "source": [
    "a = torch.ones(10)\n",
    "print(a)"
   ]
  },
  {
   "cell_type": "code",
   "execution_count": 89,
   "id": "9c02a5a9-9722-40e0-b86d-a6e060fc6625",
   "metadata": {},
   "outputs": [
    {
     "name": "stdout",
     "output_type": "stream",
     "text": [
      "[3. 3. 3. 3. 3. 3. 3. 3. 3. 3.]\n"
     ]
    }
   ],
   "source": [
    "b = a.numpy()\n",
    "print(b)"
   ]
  },
  {
   "cell_type": "code",
   "execution_count": 90,
   "id": "f1f9509b-f4d0-412c-888c-1fa271e57ac6",
   "metadata": {},
   "outputs": [
    {
     "name": "stdout",
     "output_type": "stream",
     "text": [
      "tensor([4., 4., 4., 4., 4., 4., 4., 4., 4., 4.])\n",
      "[4. 4. 4. 4. 4. 4. 4. 4. 4. 4.]\n"
     ]
    }
   ],
   "source": [
    "a.add_(1)\n",
    "print(a)\n",
    "# b.add_(1)\n",
    "print(b)"
   ]
  },
  {
   "cell_type": "code",
   "execution_count": 91,
   "id": "2530cae4-5d42-49bf-866f-c69c898977be",
   "metadata": {},
   "outputs": [
    {
     "name": "stdout",
     "output_type": "stream",
     "text": [
      "[2. 2. 2. 2. 2.]\n",
      "tensor([2., 2., 2., 2., 2.], dtype=torch.float64)\n"
     ]
    }
   ],
   "source": [
    "import numpy as np \n",
    "a = np.ones(5)\n",
    "b = torch.from_numpy(a)\n",
    "np.add(a, 1, out=a)\n",
    "print(a)\n",
    "print(b)"
   ]
  },
  {
   "cell_type": "code",
   "execution_count": 102,
   "id": "83c5c3eb-a726-4ac8-b1eb-e8494930776e",
   "metadata": {},
   "outputs": [
    {
     "name": "stdout",
     "output_type": "stream",
     "text": [
      "<class 'torch.device'>\n",
      "tensor([1.], device='cuda:0')\n",
      "tensor([1.0486], device='cuda:0')\n",
      "tensor([2.0486], device='cuda:0')\n",
      "tensor([2], dtype=torch.int32)\n"
     ]
    }
   ],
   "source": [
    "if torch.cuda.is_available():\n",
    "    device = torch.device(\"cuda\")\n",
    "    print(type(device))\n",
    "    \n",
    "    y = torch.ones_like(x, device = device)\n",
    "    print(y)\n",
    "    x = x.to(device)\n",
    "    print(x)\n",
    "    z = x + y\n",
    "    print(z)\n",
    "    z = z.to(\"cpu\", torch.int)\n",
    "    print(z)"
   ]
  },
  {
   "cell_type": "code",
   "execution_count": null,
   "id": "de56d5b6-29e3-4d88-bafe-4878f768ae87",
   "metadata": {},
   "outputs": [],
   "source": []
  }
 ],
 "metadata": {
  "kernelspec": {
   "display_name": "Tf-GPU",
   "language": "python",
   "name": "tf-gpu"
  },
  "language_info": {
   "codemirror_mode": {
    "name": "ipython",
    "version": 3
   },
   "file_extension": ".py",
   "mimetype": "text/x-python",
   "name": "python",
   "nbconvert_exporter": "python",
   "pygments_lexer": "ipython3",
   "version": "3.10.9"
  }
 },
 "nbformat": 4,
 "nbformat_minor": 5
}
